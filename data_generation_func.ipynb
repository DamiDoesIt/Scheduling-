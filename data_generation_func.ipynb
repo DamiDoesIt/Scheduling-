{
 "cells": [
  {
   "cell_type": "code",
   "execution_count": 1,
   "id": "bd0ebcac",
   "metadata": {},
   "outputs": [
    {
     "name": "stdout",
     "output_type": "stream",
     "text": [
      "[[0, 3, 5], [1, 0, 9], [2, 6, 0]]\n"
     ]
    },
    {
     "data": {
      "text/plain": [
       "()"
      ]
     },
     "execution_count": 1,
     "metadata": {},
     "output_type": "execute_result"
    }
   ],
   "source": [
    "#imports \n",
    "import numpy as np\n",
    "from numpy import random\n",
    "from numpy.random import seed\n",
    "from numpy.random import normal\n",
    "\n",
    "def datageneration(num_plane):\n",
    "\n",
    "        f= open(\"{}planes1runway.txt\".format(num_plane),\"w+\")     \n",
    "        \n",
    "        # initializing number of planes\n",
    "\n",
    "        Plane = range(1,num_plane+1) #iterating each plane from 1 to num_plane\n",
    "\n",
    "        #generating E,T,L,H,G,s_ij for all planes\n",
    "\n",
    "        T=[] #empty set that target time\n",
    "\n",
    "        while len(T) < len(Plane): # len(planes)\n",
    "            T_iter = random.randint(low=2, high=20, size=None, dtype=int) \n",
    "            T.append(T_iter)\n",
    "\n",
    "        E = [] #earliest arrive time\n",
    "\n",
    "        while len(E) < len(T):\n",
    "            for i in T:\n",
    "                E_iter = random.randint(low=1, high=i, size=None, dtype=int)\n",
    "                E.append(E_iter)\n",
    "\n",
    "        L= [] #latest arrival time \n",
    "        while len(L) < len(T):\n",
    "            for i in T:\n",
    "                L_iter = random.randint(low=i, high=i*2, size=None, dtype=int) #maybe do another np.rand to make sure the cap is still greater than the target time\n",
    "                L.append(L_iter)\n",
    "\n",
    "        G = [] #penalty for arriving early G and late H #Random? Piecewise funtion? Constant (chosen)\n",
    "        while len(G) < len(T):\n",
    "            for i in T:\n",
    "                G_iter = random.randint(low=40, high=70, size=None, dtype=int)\n",
    "                G.append(G_iter)\n",
    "\n",
    "        H = []\n",
    "        while len(H) < len(T):\n",
    "            for i in T:\n",
    "                H_iter = random.randint(low=70, high=100, size=None, dtype=int)\n",
    "                H.append(H_iter)\n",
    "\n",
    "        s_ij = [] #separation time s_ij plane i  and j need to be separated for s_ij amount of time\n",
    "        for i in T:\n",
    "            row = []\n",
    "            for j in T:\n",
    "                if i==j:\n",
    "                    s_ij_iter = 0\n",
    "                else:\n",
    "                    s_ij_iter = random.randint(low=1, high=10, size=None, dtype=int) #T-E #maybe edit s_ij bounds #2-dimensional array showing job i separation from other jobs\n",
    "                row.append(s_ij_iter)\n",
    "            s_ij.append(row)\n",
    "        \n",
    "        for i in range(len(T)):\n",
    "            f.write('{} {} {} {} {}\\n'.format(T[i], E[i], L[i], G[i], H[i])) # write all elements in .txt\n",
    "\n",
    "        f.write(\"s_ij\\n\")\n",
    "        \n",
    "        f.write(\"\\n\".join(\" \".join(map(str, x)) for x in (s_ij)))\n",
    "\n",
    "        f.close\n",
    "        \n",
    "        print(s_ij)\n",
    "\n",
    "        return() # change return to show \n",
    "\n",
    "datageneration(3)\n"
   ]
  }
 ],
 "metadata": {
  "kernelspec": {
   "display_name": "Python 3",
   "language": "python",
   "name": "python3"
  },
  "language_info": {
   "codemirror_mode": {
    "name": "ipython",
    "version": 3
   },
   "file_extension": ".py",
   "mimetype": "text/x-python",
   "name": "python",
   "nbconvert_exporter": "python",
   "pygments_lexer": "ipython3",
   "version": "3.8.8"
  }
 },
 "nbformat": 4,
 "nbformat_minor": 5
}
